{
 "cells": [
  {
   "cell_type": "markdown",
   "metadata": {},
   "source": [
    "Computational notebooks allow users to interleave text, code, and results in a single document. This notebook first demonstrates a simple calculation -- computing the first 25 numbers in the Fibonacci sequence, where each value equals the sum of the two previous values. The Jupyter notebook allows us to express that mathematically, using the typesetting language $\\LaTeX{}$: $$F_n = F_{n-1} + F_{n-2}$$\n",
    "Thus, the sequence is: 0, 1, 1, 2, 3, 5, 8, ..."
   ]
  },
  {
   "cell_type": "markdown",
   "metadata": {},
   "source": [
    "The first cell contains an IPython 'magic' code, '%matplotlib', which allows the notebook to display plots inline, in the body of the notebook."
   ]
  },
  {
   "cell_type": "code",
   "execution_count": 1,
   "metadata": {},
   "outputs": [],
   "source": [
    "%matplotlib inline"
   ]
  },
  {
   "cell_type": "code",
   "execution_count": 2,
   "metadata": {},
   "outputs": [],
   "source": [
    "import matplotlib\n",
    "import matplotlib.pyplot as plt"
   ]
  },
  {
   "cell_type": "code",
   "execution_count": 3,
   "metadata": {},
   "outputs": [
    {
     "name": "stdout",
     "output_type": "stream",
     "text": [
      "[0, 1, 1, 2, 3, 5, 8, 13, 21, 34, 55, 89, 144, 233, 377, 610, 987, 1597, 2584, 4181, 6765, 10946, 17711, 28657, 46368]\n"
     ]
    }
   ],
   "source": [
    "# calculate the first 25 Fibonacci numbers\n",
    "f1 = 0\n",
    "f2 = 1\n",
    "ar = [f1, f2] # a list to hold the computed values. We know the first two numbers\n",
    "\n",
    "# we only need to run our calculation 23 times, because positions 1 and 2 are known\n",
    "for i in range (23):\n",
    "    f3 = f1 + f2\n",
    "    ar.append (f3)\n",
    "    f1 = f2\n",
    "    f2 = f3\n",
    "    \n",
    "print (ar) # below, you see the output of the code itself."
   ]
  },
  {
   "cell_type": "markdown",
   "metadata": {},
   "source": [
    "Plot the data"
   ]
  },
  {
   "cell_type": "code",
   "execution_count": 4,
   "metadata": {},
   "outputs": [
    {
     "data": {
      "image/png": "[encoded data removed]",
      "text/plain": [
       "<matplotlib.figure.Figure at 0x108462588>"
      ]
     },
     "metadata": {},
     "output_type": "display_data"
    }
   ],
   "source": [
    "fig, ax = plt.subplots()\n",
    "ax.plot (range(25), ar, \"ro\")\n",
    "ax.set (xlabel = \"Sequence No.\", ylabel = \"Fibonacci No.\", \n",
    "       title = \"The First 25 Fibonacci Numbers\")\n",
    "plt.show()"
   ]
  },
  {
   "cell_type": "markdown",
   "metadata": {},
   "source": [
    "Anything you can do programmatically, can be documented in a notebook. Here we'll add an interactive map, just as in our June [mapping feature](https://www.nature.com/articles/d41586-018-05331-6). This requires the Python Leaflet library, folium. (**Uncomment the following cell if you don't have folium already installed.**)"
   ]
  },
  {
   "cell_type": "code",
   "execution_count": 5,
   "metadata": {},
   "outputs": [],
   "source": [
    "# !pip install folium"
   ]
  },
  {
   "cell_type": "code",
   "execution_count": 6,
   "metadata": {},
   "outputs": [],
   "source": [
    "import folium"
   ]
  },
  {
   "cell_type": "markdown",
   "metadata": {},
   "source": [
    "Now we create a simple map: a few points in London, Oxford and Cambridge, overlaid on either a street map, or on a map of geological data provided by the [Macrostrat Project](https://macrostrat.org/). (Click the tiles icon in the upper-right corner of the map to switch between the two layers.)"
   ]
  },
  {
   "cell_type": "code",
   "execution_count": 7,
   "metadata": {},
   "outputs": [],
   "source": [
    "import pandas as pd\n",
    "\n",
    "# create a data frame of locations\n",
    "name = [\"Nature\", \"Francis Crick Institute\", \"University College London\", \n",
    "        \"MRC Laboratory for Molecular Cell Biology\", \"Kings College London\",\n",
    "       \"Imperial College London\", \"Cambridge University\", \"Oxford University\",\n",
    "       \"Platform 9-3/4\"]\n",
    "lat = [51.533925,51.531877,51.524486,51.524435,51.511573,51.498780,52.206960,51.754843,51.532349]\n",
    "long = [-0.121553,-0.128767,-0.133997,-0.132495,-0.116083,-0.174888,0.115034,-1.254302,-0.123806]\n",
    "\n",
    "df = pd.DataFrame({'Name': name, 'Lat': lat, 'Long': long})"
   ]
  },
  {
   "cell_type": "code",
   "execution_count": 8,
   "metadata": {},
   "outputs": [
    {
     "data": {
      "text/plain": [
       "<folium.features.LatLngPopup at 0x1062984e0>"
      ]
     },
     "execution_count": 8,
     "metadata": {},
     "output_type": "execute_result"
    }
   ],
   "source": [
    "m = folium.Map(location = [51.8561, -0.2966], tiles = 'CartoDB positron', zoom_start = 9)\n",
    "\n",
    "# add the locations to the map\n",
    "for index,row in df.iterrows():\n",
    "    folium.CircleMarker(\n",
    "    location=[row['Lat'], row['Long']],\n",
    "    popup=row['Name'],\n",
    "    color=('crimson' if row['Name'] == 'Nature' else 'blue'),\n",
    "    fill=False,\n",
    "    ).add_to(m)\n",
    "\n",
    "folium.TileLayer(tiles='https://tiles.macrostrat.org/carto/{z}/{x}/{y}.png', \n",
    "                 attr='Macrostrat', name='Macrostrat').add_to(m)\n",
    "folium.LayerControl().add_to(m) # allow user to switch between layers\n",
    "folium.LatLngPopup().add_to(m) # click on the map to get Lat/Long in a popup"
   ]
  },
  {
   "cell_type": "markdown",
   "metadata": {},
   "source": [
    "Draw the map."
   ]
  },
  {
   "cell_type": "code",
   "execution_count": 9,
   "metadata": {},
   "outputs": [
    {
     "data": {
      "text/html": [
       "<div style=\"width:100%;\"><div style=\"position:relative;width:100%;height:0;padding-bottom:60%;\"><iframe src=\"data:text/html;charset=utf-8;base64,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\" style=\"position:absolute;width:100%;height:100%;left:0;top:0;border:none !important;\" allowfullscreen webkitallowfullscreen mozallowfullscreen></iframe></div></div>"
      ],
      "text/plain": [
       "<folium.folium.Map at 0x112d1fef0>"
      ]
     },
     "execution_count": 9,
     "metadata": {},
     "output_type": "execute_result"
    }
   ],
   "source": [
    "m"
   ]
  },
  {
   "cell_type": "markdown",
   "metadata": {},
   "source": [
    "Collect session info, for [computational reproducibility](https://www.nature.com/articles/d41586-018-05990-5)!"
   ]
  },
  {
   "cell_type": "code",
   "execution_count": 10,
   "metadata": {},
   "outputs": [
    {
     "name": "stdout",
     "output_type": "stream",
     "text": [
      "{'commit_hash': 'd86648c5d',\n",
      " 'commit_source': 'installation',\n",
      " 'default_encoding': 'UTF-8',\n",
      " 'ipython_path': '/anaconda3/lib/python3.6/site-packages/IPython',\n",
      " 'ipython_version': '6.1.0',\n",
      " 'os_name': 'posix',\n",
      " 'platform': 'Darwin-17.7.0-x86_64-i386-64bit',\n",
      " 'sys_executable': '/anaconda3/bin/python',\n",
      " 'sys_platform': 'darwin',\n",
      " 'sys_version': '3.6.3 | packaged by conda-forge | (default, Oct  5 2017, '\n",
      "                '19:18:17) \\n'\n",
      "                '[GCC 4.2.1 Compatible Apple LLVM 6.1.0 (clang-602.0.53)]'}\n"
     ]
    }
   ],
   "source": [
    "import IPython\n",
    "print(IPython.sys_info())"
   ]
  },
  {
   "cell_type": "code",
   "execution_count": 11,
   "metadata": {},
   "outputs": [
    {
     "name": "stdout",
     "output_type": "stream",
     "text": [
      "folium==0.6.0\n",
      "matplotlib==2.1.0\n",
      "pandas==0.20.3\n"
     ]
    }
   ],
   "source": [
    "!pip freeze | grep -E 'folium|matplotlib|pandas'"
   ]
  }
 ],
 "metadata": {
  "kernelspec": {
   "display_name": "Python 3",
   "language": "python",
   "name": "python3"
  },
  "language_info": {
   "codemirror_mode": {
    "name": "ipython",
    "version": 3
   },
   "file_extension": ".py",
   "mimetype": "text/x-python",
   "name": "python",
   "nbconvert_exporter": "python",
   "pygments_lexer": "ipython3",
   "version": "3.6.3"
  }
 },
 "nbformat": 4,
 "nbformat_minor": 2
}
