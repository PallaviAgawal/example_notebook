{
 "cells": [
  {
   "cell_type": "markdown",
   "metadata": {},
   "source": [
    "This simple notebook demonstrates how users can interleave text, code, and results in a single document. We start with a simple calculation -- computing the first 25 numbers in the Fibonacci sequence, where each value equals the sum of the two previous values. The Jupyter notebook allows us to express that mathematically, using the typesetting language $\\LaTeX{}$: $$F_n = F_{n-1} + F_{n-2}$$\n",
    "Thus, the sequence is: 0, 1, 1, 2, 3, 5, 8, ..."
   ]
  },
  {
   "cell_type": "markdown",
   "metadata": {},
   "source": [
    "The first cell contains an IPython 'magic' code, '%matplotlib', which allows the notebook to display plots inline, in the body of the notebook."
   ]
  },
  {
   "cell_type": "code",
   "execution_count": 1,
   "metadata": {},
   "outputs": [],
   "source": [
    "%matplotlib inline"
   ]
  },
  {
   "cell_type": "code",
   "execution_count": 2,
   "metadata": {},
   "outputs": [],
   "source": [
    "import matplotlib.pyplot as plt"
   ]
  },
  {
   "cell_type": "code",
   "execution_count": 3,
   "metadata": {},
   "outputs": [
    {
     "name": "stdout",
     "output_type": "stream",
     "text": [
      "[0, 1, 1, 2, 3, 5, 8, 13, 21, 34, 55, 89, 144, 233, 377, 610, 987, 1597, 2584, 4181, 6765, 10946, 17711, 28657, 46368]\n"
     ]
    }
   ],
   "source": [
    "# calculate the first 25 Fibonacci numbers\n",
    "f1 = 0\n",
    "f2 = 1\n",
    "ar = [f1, f2] # a list to hold the computed values. We know the first two numbers\n",
    "\n",
    "# we only need to run our calculation 23 times, because positions 1 and 2 are known\n",
    "for i in range (23):\n",
    "    f3 = f1 + f2\n",
    "    ar.append (f3)\n",
    "    f1 = f2\n",
    "    f2 = f3\n",
    "    \n",
    "print (ar) # below, you see the output of the code itself."
   ]
  },
  {
   "cell_type": "markdown",
   "metadata": {},
   "source": [
    "Plot the data"
   ]
  },
  {
   "cell_type": "code",
   "execution_count": 4,
   "metadata": {},
   "outputs": [
    {
     "data": {
      "image/png": "[encoded data removed]",
      "text/plain": [
       "<Figure size 432x288 with 1 Axes>"
      ]
     },
     "metadata": {
      "needs_background": "light"
     },
     "output_type": "display_data"
    }
   ],
   "source": [
    "fig, ax = plt.subplots()\n",
    "ax.plot (range(25), ar, \"ro\")\n",
    "## uncomment the following call to ax.plot() (by removing the leading '#') and select \n",
    "## 'Cell > Run All' (in Binder) or 'Run > Run All Cells' (Jupyter) to change the graph below\n",
    "# ax.plot (range(25), ar)\n",
    "ax.set (xlabel = \"Sequence No.\", ylabel = \"Fibonacci No.\", \n",
    "       title = \"The First 25 Fibonacci Numbers\")\n",
    "plt.show()"
   ]
  },
  {
   "cell_type": "markdown",
   "metadata": {},
   "source": [
    "Anything you can do programmatically, can be documented in a notebook. Here we'll do some simple sequence analysis with Biopython. The following example is adapted from the [Biopython tutorial](http://biopython.org/DIST/docs/tutorial/Tutorial.html). "
   ]
  },
  {
   "cell_type": "markdown",
   "metadata": {},
   "source": [
    "**Uncomment the following cell (by deleting the leading `#`) if you don't have biopython installed.**"
   ]
  },
  {
   "cell_type": "code",
   "execution_count": 5,
   "metadata": {},
   "outputs": [],
   "source": [
    "# !pip install biopython"
   ]
  },
  {
   "cell_type": "markdown",
   "metadata": {},
   "source": [
    "First, we'll read in a Genbank-formatted file, which represents a circular DNA, called a plasmid, from the bacterium, *Yersinia pestis*. "
   ]
  },
  {
   "cell_type": "code",
   "execution_count": 6,
   "metadata": {},
   "outputs": [
    {
     "data": {
      "text/plain": [
       "Seq('TGTAACGAACGGTGCAATAGTGATCCACACCCAACGCCTGAAATCAGATCCAGG...CTG', IUPACAmbiguousDNA())"
      ]
     },
     "execution_count": 6,
     "metadata": {},
     "output_type": "execute_result"
    }
   ],
   "source": [
    "from Bio import SeqIO\n",
    "\n",
    "record = SeqIO.read(\"NC_005816.gb\", \"genbank\")\n",
    "record.seq"
   ]
  },
  {
   "cell_type": "markdown",
   "metadata": {},
   "source": [
    "How long is the DNA, and how which genes does it encode?"
   ]
  },
  {
   "cell_type": "code",
   "execution_count": 7,
   "metadata": {},
   "outputs": [
    {
     "name": "stdout",
     "output_type": "stream",
     "text": [
      "Length: 9609 bp\n",
      "No. features: 41 \n",
      "\n",
      "Feat. 3: putative transposase\n",
      "Feat. 8: transposase/IS protein\n",
      "Feat. 15: putative replication regulatory protein\n",
      "Feat. 18: hypothetical protein\n",
      "Feat. 21: pesticin immunity protein\n",
      "Feat. 23: pesticin\n",
      "Feat. 29: hypothetical protein\n",
      "Feat. 32: outer membrane protease\n",
      "Feat. 35: putative transcriptional regulator\n",
      "Feat. 38: hypothetical protein\n"
     ]
    }
   ],
   "source": [
    "print(\"Length:\", len(record.seq), \"bp\")\n",
    "print(\"No. features:\",len(record.features),\"\\n\")\n",
    "\n",
    "nFeatures = 0\n",
    "for feat in record.features:\n",
    "    if (feat.type == \"CDS\"):\n",
    "        product = feat.qualifiers['product'][0]\n",
    "        print (\"Feat. %d: %s\" % (nFeatures, product))\n",
    "    nFeatures += 1"
   ]
  },
  {
   "cell_type": "markdown",
   "metadata": {},
   "source": [
    "This plasmid encodes 41 features, including 10 genes. Let's focus on feature #18, which encodes a 'hypothetical protein'."
   ]
  },
  {
   "cell_type": "code",
   "execution_count": 8,
   "metadata": {},
   "outputs": [
    {
     "name": "stdout",
     "output_type": "stream",
     "text": [
      "Gene location\n",
      "Start: 3485 \n",
      "End: 3857\n",
      "GeneID: ['GI:45478715', 'GeneID:2767720']\n"
     ]
    }
   ],
   "source": [
    "feat = record.features[18]\n",
    "print (\"Gene location\\nStart:\", feat.location.start, \"\\nEnd:\", feat.location.end)\n",
    "print (\"GeneID:\", feat.qualifiers.get(\"db_xref\"))"
   ]
  },
  {
   "cell_type": "markdown",
   "metadata": {},
   "source": [
    "These data show us that the gene is located between bases 3485 and 3857. Let's retrieve that segment and translate it."
   ]
  },
  {
   "cell_type": "code",
   "execution_count": 9,
   "metadata": {},
   "outputs": [
    {
     "name": "stdout",
     "output_type": "stream",
     "text": [
      "VSKKRRPQKRPRRRRFFHRLRPPDEHHKNRRSSQRWRNPTGLKDTRRFPPEAPSCALLFRPCRLPDTSPPFSLREAWRFLIAHAVGISVRCRSFAPSWAVCTNPPFSPTTAPYPVTIVLSPTR*\n"
     ]
    }
   ],
   "source": [
    "my_gene = record[3485:3857]\n",
    "print (my_gene.seq.translate(table=\"Bacterial\"))"
   ]
  },
  {
   "cell_type": "markdown",
   "metadata": {},
   "source": [
    "Now, let's find out more about this gene, using the NCBI Entrez database. We learned the accession number above: `GeneID: ['GI:45478715', 'GeneID:2767720']`."
   ]
  },
  {
   "cell_type": "code",
   "execution_count": 10,
   "metadata": {},
   "outputs": [],
   "source": [
    "from Bio import Entrez"
   ]
  },
  {
   "cell_type": "code",
   "execution_count": 11,
   "metadata": {},
   "outputs": [
    {
     "name": "stdout",
     "output_type": "stream",
     "text": [
      "LOCUS       NP_995570                123 aa            linear   CON 16-DEC-2014\n",
      "DEFINITION  hypothetical protein YP_pPCP04 (plasmid) [Yersinia pestis biovar\n",
      "            Microtus str. 91001].\n",
      "ACCESSION   NP_995570\n",
      "VERSION     NP_995570.1\n",
      "DBLINK      BioProject: PRJNA58037\n",
      "DBSOURCE    REFSEQ: accession NC_005816.1\n",
      "KEYWORDS    RefSeq.\n",
      "SOURCE      Yersinia pestis biovar Microtus str. 91001\n",
      "  ORGANISM  Yersinia pestis biovar Microtus str. 91001\n",
      "            Bacteria; Proteobacteria; Gammaproteobacteria; Enterobacteriales;\n",
      "            Enterobacteriaceae; Yersinia.\n",
      "REFERENCE   1  (residues 1 to 123)\n",
      "  AUTHORS   Zhou,D., Tong,Z., Song,Y., Han,Y., Pei,D., Pang,X., Zhai,J., Li,M.,\n",
      "            Cui,B., Qi,Z., Jin,L., Dai,R., Du,Z., Wang,J., Guo,Z., Wang,J.,\n",
      "            Huang,P. and Yang,R.\n",
      "  TITLE     Genetics of metabolic variations between Yersinia pestis biovars\n",
      "            and the proposal of a new biovar, microtus\n",
      "  JOURNAL   J. Bacteriol. 186 (15), 5147-5152 (2004)\n",
      "   PUBMED   15262951\n",
      "REFERENCE   2  (residues 1 to 123)\n",
      "  AUTHORS   Song,Y., Tong,Z., Wang,J., Wang,L., Guo,Z., Han,Y., Zhang,J.,\n",
      "            Pei,D., Zhou,D., Qin,H., Pang,X., Han,Y., Zhai,J., Li,M., Cui,B.,\n",
      "            Qi,Z., Jin,L., Dai,R., Chen,F., Li,S., Ye,C., Du,Z., Lin,W.,\n",
      "            Wang,J., Yu,J., Yang,H., Wang,J., Huang,P. and Yang,R.\n",
      "  TITLE     Complete genome sequence of Yersinia pestis strain 91001, an\n",
      "            isolate avirulent to humans\n",
      "  JOURNAL   DNA Res. 11 (3), 179-197 (2004)\n",
      "   PUBMED   15368893\n",
      "REFERENCE   3  (residues 1 to 123)\n",
      "  CONSRTM   NCBI Genome Project\n",
      "  TITLE     Direct Submission\n",
      "  JOURNAL   Submitted (16-MAR-2004) National Center for Biotechnology\n",
      "            Information, NIH, Bethesda, MD 20894, USA\n",
      "REFERENCE   4  (residues 1 to 123)\n",
      "  AUTHORS   Song,Y., Tong,Z., Wang,L., Han,Y., Zhang,J., Pei,D., Wang,J.,\n",
      "            Zhou,D., Han,Y., Pang,X., Zhai,J., Chen,F., Qin,H., Wang,J., Li,S.,\n",
      "            Guo,Z., Ye,C., Du,Z., Lin,W., Wang,J., Yu,J., Yang,H., Wang,J.,\n",
      "            Huang,P. and Yang,R.\n",
      "  TITLE     Direct Submission\n",
      "  JOURNAL   Submitted (24-APR-2003) The Institute of Microbiology and\n",
      "            Epidemiology, Academy of Military Medical Sciences, No. 20,\n",
      "            Dongdajie Street, Fengtai District, Beijing 100071, People's\n",
      "            Republic of China\n",
      "COMMENT     PROVISIONAL REFSEQ: This record has not yet been subject to final\n",
      "            NCBI review. The reference sequence was derived from AAS58761.\n",
      "            Method: conceptual translation.\n",
      "FEATURES             Location/Qualifiers\n",
      "     source          1..123\n",
      "                     /organism=\"Yersinia pestis biovar Microtus str. 91001\"\n",
      "                     /strain=\"91001\"\n",
      "                     /db_xref=\"taxon:229193\"\n",
      "                     /plasmid=\"pPCP1\"\n",
      "                     /biovar=\"Microtus\"\n",
      "     Protein         1..123\n",
      "                     /product=\"hypothetical protein\"\n",
      "                     /calculated_mol_wt=14322\n",
      "     CDS             1..123\n",
      "                     /locus_tag=\"YP_pPCP04\"\n",
      "                     /coded_by=\"NC_005816.1:3486..3857\"\n",
      "                     /note=\"Best Blastp hit = gi|321919|pir||JQ1541\n",
      "                     hypothetical 16.9K protein - Salmonella typhi murium\n",
      "                     plasmid NTP16.\"\n",
      "                     /transl_table=11\n",
      "                     /db_xref=\"GeneID:2767720\"\n",
      "CONTIG      join(WP_011172039.1:1..123)\n",
      "ORIGIN      \n",
      "        1 mskkrrpqkr prrrrffhrl rppdehhknr rssqrwrnpt glkdtrrfpp eapscallfr\n",
      "       61 pcrlpdtspp fslreawrfl iahavgisvr crsfapswav ctnppfsptt apypvtivls\n",
      "      121 ptr\n",
      "//\n",
      "\n",
      "\n"
     ]
    }
   ],
   "source": [
    "Entrez.email = \"A.N.Other@example.com\"  # Always tell NCBI who you are\n",
    "handle = Entrez.efetch (db=\"nucleotide\",id=\"45478715\",rettype=\"gb\",retmode=\"text\")\n",
    "print (handle.read())"
   ]
  },
  {
   "cell_type": "markdown",
   "metadata": {},
   "source": [
    "Jupyter also supports interactive data exploration. Here we'll add an interactive map, just as in our June [mapping feature](https://www.nature.com/articles/d41586-018-05331-6) -- something you might do when working with geospatial data. This requires the Python Leaflet library, folium. (**Uncomment the following cell (by deleting the leading `#`) if you don't have folium installed.**)"
   ]
  },
  {
   "cell_type": "code",
   "execution_count": 12,
   "metadata": {},
   "outputs": [],
   "source": [
    "# !pip install folium"
   ]
  },
  {
   "cell_type": "code",
   "execution_count": 13,
   "metadata": {},
   "outputs": [],
   "source": [
    "import folium"
   ]
  },
  {
   "cell_type": "markdown",
   "metadata": {},
   "source": [
    "Now we create a simple map: a few points in London, Oxford and Cambridge, overlaid on either a street map, or on a map of geological data provided by the [Macrostrat Project](https://macrostrat.org/). "
   ]
  },
  {
   "cell_type": "code",
   "execution_count": 14,
   "metadata": {},
   "outputs": [],
   "source": [
    "coords = { \n",
    "    0: { \"name\": \"Nature\", \"lat\": 51.533925, \"long\": -0.121553 },\n",
    "    1: { \"name\": \"Francis Crick Institite\", \"lat\": 51.531877, \"long\": -0.128767 },\n",
    "    2: { \"name\": \"MRC Laboratory for Molecular Cell Biology\", \"lat\": 51.524435, \"long\": -0.132495 },\n",
    "    3: { \"name\": \"Kings College London\", \"lat\": 51.511573, \"long\": -0.116083 },\n",
    "    4: { \"name\": \"Imperial College London\", \"lat\": 51.498780, \"long\": -0.174888 },\n",
    "    5: { \"name\": \"Cambridge University\", \"lat\": 52.206960, \"long\": 0.115034 },\n",
    "    6: { \"name\": \"Oxford University\", \"lat\": 51.754843, \"long\": -1.254302 },\n",
    "    7: { \"name\": \"Platform 9 3/4\", \"lat\": 51.532349, \"long\": -0.123806 }\n",
    "}"
   ]
  },
  {
   "cell_type": "code",
   "execution_count": 15,
   "metadata": {},
   "outputs": [
    {
     "data": {
      "text/plain": [
       "<folium.features.LatLngPopup at 0x1160e3c88>"
      ]
     },
     "execution_count": 15,
     "metadata": {},
     "output_type": "execute_result"
    }
   ],
   "source": [
    "m = folium.Map(location = [51.8561, -0.2966], tiles = 'CartoDB positron', zoom_start = 9)\n",
    "\n",
    "# add the locations to the map\n",
    "for key in coords.keys():\n",
    "    folium.CircleMarker(\n",
    "    location=[coords[key]['lat'], coords[key]['long']],\n",
    "    popup=coords[key]['name'],\n",
    "    color=('crimson' if coords[key]['name'] == 'Nature' else 'blue'),\n",
    "    fill=False,\n",
    "    ).add_to(m)\n",
    "\n",
    "# pull in the Macrostrat tile layer\n",
    "folium.TileLayer(tiles='https://tiles.macrostrat.org/carto/{z}/{x}/{y}.png', \n",
    "                 attr='Macrostrat', name='Macrostrat').add_to(m)\n",
    "folium.LayerControl().add_to(m) # allow user to switch between layers\n",
    "folium.LatLngPopup().add_to(m) # click on the map to get Lat/Long in a popup"
   ]
  },
  {
   "cell_type": "markdown",
   "metadata": {},
   "source": [
    "Draw the map. **Note that this map is interactive**: you can zoom, pan, click the points of interest, and alternate between the two layers (by clicking on the tiles icon in the upper-right corner of the map). If you click anywhere on the map, a popup will appear showing the latitude and longitude of that position."
   ]
  },
  {
   "cell_type": "code",
   "execution_count": 16,
   "metadata": {},
   "outputs": [
    {
     "data": {
      "text/html": [
       "<div style=\"width:100%;\"><div style=\"position:relative;width:100%;height:0;padding-bottom:60%;\"><iframe src=\"data:text/html;charset=utf-8;base64,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\" style=\"position:absolute;width:100%;height:100%;left:0;top:0;border:none !important;\" allowfullscreen webkitallowfullscreen mozallowfullscreen></iframe></div></div>"
      ],
      "text/plain": [
       "<folium.folium.Map at 0x1160d14e0>"
      ]
     },
     "execution_count": 16,
     "metadata": {},
     "output_type": "execute_result"
    }
   ],
   "source": [
    "m"
   ]
  },
  {
   "cell_type": "markdown",
   "metadata": {},
   "source": [
    "Document our session, for [computational reproducibility](https://www.nature.com/articles/d41586-018-05990-5)!"
   ]
  },
  {
   "cell_type": "code",
   "execution_count": 17,
   "metadata": {},
   "outputs": [
    {
     "name": "stdout",
     "output_type": "stream",
     "text": [
      "{'commit_hash': 'dd83a2163',\n",
      " 'commit_source': 'installation',\n",
      " 'default_encoding': 'UTF-8',\n",
      " 'ipython_path': '/anaconda3/lib/python3.6/site-packages/IPython',\n",
      " 'ipython_version': '6.5.0',\n",
      " 'os_name': 'posix',\n",
      " 'platform': 'Darwin-17.7.0-x86_64-i386-64bit',\n",
      " 'sys_executable': '/anaconda3/bin/python',\n",
      " 'sys_platform': 'darwin',\n",
      " 'sys_version': '3.6.6 | packaged by conda-forge | (default, Jul 26 2018, '\n",
      "                '09:55:02) \\n'\n",
      "                '[GCC 4.2.1 Compatible Apple LLVM 6.1.0 (clang-602.0.53)]'}\n"
     ]
    }
   ],
   "source": [
    "import IPython\n",
    "print(IPython.sys_info())"
   ]
  },
  {
   "cell_type": "code",
   "execution_count": 18,
   "metadata": {},
   "outputs": [
    {
     "name": "stdout",
     "output_type": "stream",
     "text": [
      "biopython==1.70\n",
      "folium==0.6.0\n",
      "matplotlib==2.2.3\n"
     ]
    }
   ],
   "source": [
    "!pip freeze | grep -E 'folium|matplotlib|biopython'"
   ]
  },
  {
   "cell_type": "code",
   "execution_count": null,
   "metadata": {},
   "outputs": [],
   "source": []
  }
 ],
 "metadata": {
  "kernelspec": {
   "display_name": "Python 3",
   "language": "python",
   "name": "python3"
  },
  "language_info": {
   "codemirror_mode": {
    "name": "ipython",
    "version": 3
   },
   "file_extension": ".py",
   "mimetype": "text/x-python",
   "name": "python",
   "nbconvert_exporter": "python",
   "pygments_lexer": "ipython3",
   "version": "3.6.6"
  }
 },
 "nbformat": 4,
 "nbformat_minor": 2
}
