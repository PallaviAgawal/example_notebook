{
 "cells": [
  {
   "cell_type": "markdown",
   "metadata": {},
   "source": [
    "This simple notebook demonstrates how users can interleave text, code, and results in a single document. We start with a simple calculation -- computing the first 25 numbers in the Fibonacci sequence, where each value equals the sum of the two previous values. The Jupyter notebook allows us to express that mathematically, using the typesetting language $\\LaTeX{}$: $$F_n = F_{n-1} + F_{n-2}$$\n",
    "Thus, the sequence is: 0, 1, 1, 2, 3, 5, 8, ..."
   ]
  },
  {
   "cell_type": "markdown",
   "metadata": {},
   "source": [
    "The first cell contains an IPython 'magic' code, '%matplotlib', which allows the notebook to display plots inline, in the body of the notebook."
   ]
  },
  {
   "cell_type": "code",
   "execution_count": 1,
   "metadata": {},
   "outputs": [],
   "source": [
    "%matplotlib inline"
   ]
  },
  {
   "cell_type": "code",
   "execution_count": 2,
   "metadata": {},
   "outputs": [],
   "source": [
    "import matplotlib.pyplot as plt"
   ]
  },
  {
   "cell_type": "code",
   "execution_count": 3,
   "metadata": {},
   "outputs": [
    {
     "name": "stdout",
     "output_type": "stream",
     "text": [
      "[0, 1, 1, 2, 3, 5, 8, 13, 21, 34, 55, 89, 144, 233, 377, 610, 987, 1597, 2584, 4181, 6765, 10946, 17711, 28657, 46368]\n"
     ]
    }
   ],
   "source": [
    "# calculate the first 25 Fibonacci numbers\n",
    "f1 = 0\n",
    "f2 = 1\n",
    "ar = [f1, f2] # a list to hold the computed values. We know the first two numbers\n",
    "\n",
    "# we only need to run our calculation 23 times, because positions 1 and 2 are known\n",
    "for i in range (23):\n",
    "    f3 = f1 + f2\n",
    "    ar.append (f3)\n",
    "    f1 = f2\n",
    "    f2 = f3\n",
    "    \n",
    "print (ar) # below, you see the output of the code itself."
   ]
  },
  {
   "cell_type": "markdown",
   "metadata": {},
   "source": [
    "Plot the data"
   ]
  },
  {
   "cell_type": "code",
   "execution_count": 4,
   "metadata": {},
   "outputs": [
    {
     "data": {
      "image/png": "[encoded data removed]",
      "text/plain": [
       "<matplotlib.figure.Figure at 0x111454eb8>"
      ]
     },
     "metadata": {},
     "output_type": "display_data"
    }
   ],
   "source": [
    "fig, ax = plt.subplots()\n",
    "ax.plot (range(25), ar, \"ro\")\n",
    "## uncomment the following call to ax.plot() (by removing the leading '#') and select \n",
    "## 'Cell > Run All' (in Binder) or 'Run > Run All Cells' (Jupyter) to change the graph below\n",
    "# ax.plot (range(25), ar)\n",
    "ax.set (xlabel = \"Sequence No.\", ylabel = \"Fibonacci No.\", \n",
    "       title = \"The First 25 Fibonacci Numbers\")\n",
    "plt.show()"
   ]
  },
  {
   "cell_type": "markdown",
   "metadata": {},
   "source": [
    "Anything you can do programmatically, can be documented in a notebook. Here we'll do some simple sequence analysis with Biopython. The following example is adapted from the [Biopython tutorial](http://biopython.org/DIST/docs/tutorial/Tutorial.html). "
   ]
  },
  {
   "cell_type": "markdown",
   "metadata": {},
   "source": [
    "First, we'll read in a Genbank-formatted file, which represents a circular DNA, called a plasmid, from the bacterium, *Yersinia pestis*."
   ]
  },
  {
   "cell_type": "code",
   "execution_count": 5,
   "metadata": {},
   "outputs": [
    {
     "data": {
      "text/plain": [
       "Seq('TGTAACGAACGGTGCAATAGTGATCCACACCCAACGCCTGAAATCAGATCCAGG...CTG', IUPACAmbiguousDNA())"
      ]
     },
     "execution_count": 5,
     "metadata": {},
     "output_type": "execute_result"
    }
   ],
   "source": [
    "from Bio import SeqIO\n",
    "from Bio.Seq import Seq\n",
    "from Bio.SeqUtils import seq3\n",
    "\n",
    "record = SeqIO.read(\"NC_005816.gb\", \"genbank\")\n",
    "record.seq"
   ]
  },
  {
   "cell_type": "markdown",
   "metadata": {},
   "source": [
    "How long is the DNA, and how many sequence features are present?"
   ]
  },
  {
   "cell_type": "code",
   "execution_count": 6,
   "metadata": {},
   "outputs": [
    {
     "name": "stdout",
     "output_type": "stream",
     "text": [
      "Length: 9609 bp\n",
      "Number of features: 41\n"
     ]
    }
   ],
   "source": [
    "print(\"Length:\", len(record.seq), \"bp\")\n",
    "print(\"Number of features:\", len(record.features))"
   ]
  },
  {
   "cell_type": "markdown",
   "metadata": {},
   "source": [
    "How many genes are present on this plasmid?"
   ]
  },
  {
   "cell_type": "code",
   "execution_count": 7,
   "metadata": {},
   "outputs": [
    {
     "name": "stdout",
     "output_type": "stream",
     "text": [
      "10 genes found\n",
      "\n"
     ]
    }
   ],
   "source": [
    "nGenes = 0\n",
    "for feat in record.features:\n",
    "    if (feat.type == \"CDS\"):\n",
    "        nGenes += 1\n",
    "\n",
    "print (nGenes, \"genes found\\n\")"
   ]
  },
  {
   "cell_type": "markdown",
   "metadata": {},
   "source": [
    "There are 10 genes. Let's focus on *pim*, which encodes the *Y. pestis* 'pesticin immunity protein'."
   ]
  },
  {
   "cell_type": "code",
   "execution_count": 8,
   "metadata": {},
   "outputs": [
    {
     "name": "stdout",
     "output_type": "stream",
     "text": [
      "pim gene location\n",
      "Start: 4342 \n",
      "End: 4780\n"
     ]
    }
   ],
   "source": [
    "# adapted from https://www.biostars.org/p/249500/\n",
    "for gb_record in SeqIO.parse(\"NC_005816.gb\", \"genbank\"):\n",
    "    # now do something with the record\n",
    "    for feat in gb_record.features:\n",
    "        if feat.type == \"CDS\":\n",
    "            product = feat.qualifiers['product'][0]\n",
    "            if product == 'pesticin immunity protein' :\n",
    "                print (\"pim gene location\\nStart:\", feat.location.start, \"\\nEnd:\", feat.location.end)"
   ]
  },
  {
   "cell_type": "markdown",
   "metadata": {},
   "source": [
    "These data show us that the *pim* gene is located between bases 4342 and 4780. Let's retrieve that segment ..."
   ]
  },
  {
   "cell_type": "code",
   "execution_count": 9,
   "metadata": {},
   "outputs": [],
   "source": [
    "pim = record[4342:4780]"
   ]
  },
  {
   "cell_type": "markdown",
   "metadata": {},
   "source": [
    "... and translate it."
   ]
  },
  {
   "cell_type": "code",
   "execution_count": 10,
   "metadata": {},
   "outputs": [
    {
     "name": "stdout",
     "output_type": "stream",
     "text": [
      "MGGGMISKLFCLALIFLSSSGLAEKNTYTAKDILQNLELNTFGNSLSHGIYGKQTTFKQTEFTNIKSNTKKHIALINKDNSWMISLKILGIKRDEYTVCFEDFSLIRPPTYVAIHPLLIKKVKSGNFIVVKEIKKSIPGCTVYYH*\n"
     ]
    }
   ],
   "source": [
    "print (pim.seq.translate())"
   ]
  },
  {
   "cell_type": "markdown",
   "metadata": {},
   "source": [
    "We can also view that in 3-letter code, which may be easier to read..."
   ]
  },
  {
   "cell_type": "code",
   "execution_count": 20,
   "metadata": {},
   "outputs": [
    {
     "name": "stdout",
     "output_type": "stream",
     "text": [
      "MetGlyGlyGlyMetIleSerLysLeuPheCysLeuAlaLeuIlePheLeuSerSerSerGlyLeuAlaGluLysAsnThrTyrThrAlaLysAspIleLeuGlnAsnLeuGluLeuAsnThrPheGlyAsnSerLeuSerHisGlyIleTyrGlyLysGlnThrThrPheLysGlnThrGluPheThrAsnIleLysSerAsnThrLysLysHisIleAlaLeuIleAsnLysAspAsnSerTrpMetIleSerLeuLysIleLeuGlyIleLysArgAspGluTyrThrValCysPheGluAspPheSerLeuIleArgProProThrTyrValAlaIleHisProLeuLeuIleLysLysValLysSerGlyAsnPheIleValValLysGluIleLysLysSerIleProGlyCysThrValTyrTyrHis***\n"
     ]
    }
   ],
   "source": [
    "# add a 'custom_map' parameter because by default, seq3 uses 'Ter' for stop codons.\n",
    "print (seq3(pim.seq.translate(), custom_map={\"*\": \"***\"}))"
   ]
  },
  {
   "cell_type": "markdown",
   "metadata": {},
   "source": [
    "And we can double-check our translation by viewing the region in Genbank format. Notice that our translation matches the `/translation` field in the Genbank record."
   ]
  },
  {
   "cell_type": "code",
   "execution_count": 12,
   "metadata": {},
   "outputs": [
    {
     "name": "stdout",
     "output_type": "stream",
     "text": [
      "LOCUS       NC_005816                438 bp    DNA              UNK 01-JAN-1980\n",
      "DEFINITION  Yersinia pestis biovar Microtus str. 91001 plasmid pPCP1, complete\n",
      "            sequence.\n",
      "ACCESSION   NC_005816\n",
      "VERSION     NC_005816.1\n",
      "KEYWORDS    .\n",
      "SOURCE      .\n",
      "  ORGANISM  .\n",
      "            .\n",
      "FEATURES             Location/Qualifiers\n",
      "     gene            1..438\n",
      "                     /gene=\"pim\"\n",
      "                     /locus_tag=\"YP_pPCP05\"\n",
      "                     /db_xref=\"GeneID:2767712\"\n",
      "     CDS             1..438\n",
      "                     /gene=\"pim\"\n",
      "                     /locus_tag=\"YP_pPCP05\"\n",
      "                     /note=\"similar to many previously sequenced pesticin\n",
      "                     immunity protein entries of Yersinia pestis plasmid pPCP,\n",
      "                     e.g. gi| 16082683|,ref|NP_395230.1| (NC_003132) ,\n",
      "                     gi|1200166|emb|CAA90861.1| (Z54145 ) , gi|1488655|\n",
      "                     emb|CAA63439.1| (X92856) , gi|2996219|gb|AAC62543.1|\n",
      "                     (AF053945) , and gi|5763814|emb|CAB531 67.1| (AL109969)\"\n",
      "                     /codon_start=1\n",
      "                     /transl_table=11\n",
      "                     /product=\"pesticin immunity protein\"\n",
      "                     /protein_id=\"NP_995571.1\"\n",
      "                     /db_xref=\"GI:45478716\"\n",
      "                     /db_xref=\"GeneID:2767712\"\n",
      "                     /translation=\"MGGGMISKLFCLALIFLSSSGLAEKNTYTAKDILQNLELNTFGNS\n",
      "                     LSHGIYGKQTTFKQTEFTNIKSNTKKHIALINKDNSWMISLKILGIKRDEYTVCFEDFS\n",
      "                     LIRPPTYVAIHPLLIKKVKSGNFIVVKEIKKSIPGCTVYYH\"\n",
      "ORIGIN\n",
      "        1 atgggagggg gaatgatctc aaagttattt tgcttggctc tcatattttt atcatcaagt\n",
      "       61 ggccttgcag aaaaaaacac atatacagca aaagacatct tgcaaaacct agaattaaat\n",
      "      121 acctttggca attcattgtc tcatggcatc tatgggaaac agacaacctt caagcaaacc\n",
      "      181 gagtttacaa atattaaaag caacaccaaa aaacacattg cacttatcaa taaagacaac\n",
      "      241 tcatggatga tatcattaaa aatactagga attaagagag atgagtatac tgtctgtttt\n",
      "      301 gaagatttct ctctaataag accgccaaca tatgtagcca tacatcctct acttataaaa\n",
      "      361 aaagtaaaat ctggaaactt tatagtagtg aaagaaataa agaaatctat ccctggttgc\n",
      "      421 actgtatatt atcattaa\n",
      "//\n",
      "\n"
     ]
    }
   ],
   "source": [
    "print(pim.format(\"genbank\"))"
   ]
  },
  {
   "cell_type": "markdown",
   "metadata": {},
   "source": [
    "Jupyter also supports interactive data exploration. Here we'll add an interactive map, just as in our June [mapping feature](https://www.nature.com/articles/d41586-018-05331-6) -- something you might do when working with geospatial data. This requires the Python Leaflet library, folium. (**Uncomment the following cell (by deleting the leading `#`) if you don't have folium installed.**)"
   ]
  },
  {
   "cell_type": "code",
   "execution_count": 13,
   "metadata": {},
   "outputs": [],
   "source": [
    "# !pip install folium"
   ]
  },
  {
   "cell_type": "code",
   "execution_count": 14,
   "metadata": {},
   "outputs": [],
   "source": [
    "import folium"
   ]
  },
  {
   "cell_type": "markdown",
   "metadata": {},
   "source": [
    "Now we create a simple map: a few points in London, Oxford and Cambridge, overlaid on either a street map, or on a map of geological data provided by the [Macrostrat Project](https://macrostrat.org/). "
   ]
  },
  {
   "cell_type": "code",
   "execution_count": 15,
   "metadata": {},
   "outputs": [],
   "source": [
    "import pandas as pd\n",
    "\n",
    "# create a data frame of locations\n",
    "name = [\"Nature\", \"Francis Crick Institute\", \"University College London\", \n",
    "        \"MRC Laboratory for Molecular Cell Biology\", \"Kings College London\",\n",
    "       \"Imperial College London\", \"Cambridge University\", \"Oxford University\",\n",
    "       \"Platform 9-3/4\"]\n",
    "lat = [51.533925,51.531877,51.524486,51.524435,51.511573,51.498780,52.206960,51.754843,51.532349]\n",
    "long = [-0.121553,-0.128767,-0.133997,-0.132495,-0.116083,-0.174888,0.115034,-1.254302,-0.123806]\n",
    "\n",
    "df = pd.DataFrame({'Name': name, 'Lat': lat, 'Long': long})"
   ]
  },
  {
   "cell_type": "code",
   "execution_count": 16,
   "metadata": {},
   "outputs": [
    {
     "data": {
      "text/plain": [
       "<folium.features.LatLngPopup at 0x11bf69a90>"
      ]
     },
     "execution_count": 16,
     "metadata": {},
     "output_type": "execute_result"
    }
   ],
   "source": [
    "m = folium.Map(location = [51.8561, -0.2966], tiles = 'CartoDB positron', zoom_start = 9)\n",
    "\n",
    "# add the locations to the map\n",
    "for index,row in df.iterrows():\n",
    "    folium.CircleMarker(\n",
    "    location=[row['Lat'], row['Long']],\n",
    "    popup=row['Name'],\n",
    "    color=('crimson' if row['Name'] == 'Nature' else 'blue'),\n",
    "    fill=False,\n",
    "    ).add_to(m)\n",
    "\n",
    "folium.TileLayer(tiles='https://tiles.macrostrat.org/carto/{z}/{x}/{y}.png', \n",
    "                 attr='Macrostrat', name='Macrostrat').add_to(m)\n",
    "folium.LayerControl().add_to(m) # allow user to switch between layers\n",
    "folium.LatLngPopup().add_to(m) # click on the map to get Lat/Long in a popup"
   ]
  },
  {
   "cell_type": "markdown",
   "metadata": {},
   "source": [
    "Draw the map. **Note that this map is interactive**: you can zoom, pan, click the points of interest, and alternate between the two layers (by clicking on the tiles icon in the upper-right corner of the map)."
   ]
  },
  {
   "cell_type": "code",
   "execution_count": 17,
   "metadata": {},
   "outputs": [
    {
     "data": {
      "text/html": [
       "<div style=\"width:100%;\"><div style=\"position:relative;width:100%;height:0;padding-bottom:60%;\"><iframe src=\"data:text/html;charset=utf-8;base64,PCFET0NUWVBFIGh0bWw+CjxoZWFkPiAgICAKICAgIDxtZXRhIGh0dHAtZXF1aXY9ImNvbnRlbnQtdHlwZSIgY29udGVudD0idGV4dC9odG1sOyBjaGFyc2V0PVVURi04IiAvPgogICAgPHNjcmlwdD5MX1BSRUZFUl9DQU5WQVM9ZmFsc2U7IExfTk9fVE9VQ0g9ZmFsc2U7IExfRElTQUJMRV8zRD1mYWxzZTs8L3NjcmlwdD4KICAgIDxzY3JpcHQgc3JjPSJodHRwczovL2Nkbi5qc2RlbGl2ci5uZXQvbnBtL2xlYWZsZXRAMS4yLjAvZGlzdC9sZWFmbGV0LmpzIj48L3NjcmlwdD4KICAgIDxzY3JpcHQgc3JjPSJodHRwczovL2FqYXguZ29vZ2xlYXBpcy5jb20vYWpheC9saWJzL2pxdWVyeS8xLjExLjEvanF1ZXJ5Lm1pbi5qcyI+PC9zY3JpcHQ+CiAgICA8c2NyaXB0IHNyYz0iaHR0cHM6Ly9tYXhjZG4uYm9vdHN0cmFwY2RuLmNvbS9ib290c3RyYXAvMy4yLjAvanMvYm9vdHN0cmFwLm1pbi5qcyI+PC9zY3JpcHQ+CiAgICA8c2NyaXB0IHNyYz0iaHR0cHM6Ly9jZG5qcy5jbG91ZGZsYXJlLmNvbS9hamF4L2xpYnMvTGVhZmxldC5hd2Vzb21lLW1hcmtlcnMvMi4wLjIvbGVhZmxldC5hd2Vzb21lLW1hcmtlcnMuanMiPjwvc2NyaXB0PgogICAgPGxpbmsgcmVsPSJzdHlsZXNoZWV0IiBocmVmPSJodHRwczovL2Nkbi5qc2RlbGl2ci5uZXQvbnBtL2xlYWZsZXRAMS4yLjAvZGlzdC9sZWFmbGV0LmNzcyIvPgogICAgPGxpbmsgcmVsPSJzdHlsZXNoZWV0IiBocmVmPSJodHRwczovL21heGNkbi5ib290c3RyYXBjZG4uY29tL2Jvb3RzdHJhcC8zLjIuMC9jc3MvYm9vdHN0cmFwLm1pbi5jc3MiLz4KICAgIDxsaW5rIHJlbD0ic3R5bGVzaGVldCIgaHJlZj0iaHR0cHM6Ly9tYXhjZG4uYm9vdHN0cmFwY2RuLmNvbS9ib290c3RyYXAvMy4yLjAvY3NzL2Jvb3RzdHJhcC10aGVtZS5taW4uY3NzIi8+CiAgICA8bGluayByZWw9InN0eWxlc2hlZXQiIGhyZWY9Imh0dHBzOi8vbWF4Y2RuLmJvb3RzdHJhcGNkbi5jb20vZm9udC1hd2Vzb21lLzQuNi4zL2Nzcy9mb250LWF3ZXNvbWUubWluLmNzcyIvPgogICAgPGxpbmsgcmVsPSJzdHlsZXNoZWV0IiBocmVmPSJodHRwczovL2NkbmpzLmNsb3VkZmxhcmUuY29tL2FqYXgvbGlicy9MZWFmbGV0LmF3ZXNvbWUtbWFya2Vycy8yLjAuMi9sZWFmbGV0LmF3ZXNvbWUtbWFya2Vycy5jc3MiLz4KICAgIDxsaW5rIHJlbD0ic3R5bGVzaGVldCIgaHJlZj0iaHR0cHM6Ly9yYXdnaXQuY29tL3B5dGhvbi12aXN1YWxpemF0aW9uL2ZvbGl1bS9tYXN0ZXIvZm9saXVtL3RlbXBsYXRlcy9sZWFmbGV0LmF3ZXNvbWUucm90YXRlLmNzcyIvPgogICAgPHN0eWxlPmh0bWwsIGJvZHkge3dpZHRoOiAxMDAlO2hlaWdodDogMTAwJTttYXJnaW46IDA7cGFkZGluZzogMDt9PC9zdHlsZT4KICAgIDxzdHlsZT4jbWFwIHtwb3NpdGlvbjphYnNvbHV0ZTt0b3A6MDtib3R0b206MDtyaWdodDowO2xlZnQ6MDt9PC9zdHlsZT4KICAgIAogICAgPHN0eWxlPiNtYXBfOWNmNmJjM2UyYzViNDI2NjhmYzQ4ZjI2OTUzYzEzZDUgewogICAgICAgIHBvc2l0aW9uOiByZWxhdGl2ZTsKICAgICAgICB3aWR0aDogMTAwLjAlOwogICAgICAgIGhlaWdodDogMTAwLjAlOwogICAgICAgIGxlZnQ6IDAuMCU7CiAgICAgICAgdG9wOiAwLjAlOwogICAgICAgIH0KICAgIDwvc3R5bGU+CjwvaGVhZD4KPGJvZHk+ICAgIAogICAgCiAgICA8ZGl2IGNsYXNzPSJmb2xpdW0tbWFwIiBpZD0ibWFwXzljZjZiYzNlMmM1YjQyNjY4ZmM0OGYyNjk1M2MxM2Q1IiA+PC9kaXY+CjwvYm9keT4KPHNjcmlwdD4gICAgCiAgICAKICAgIAogICAgICAgIHZhciBib3VuZHMgPSBudWxsOwogICAgCgogICAgdmFyIG1hcF85Y2Y2YmMzZTJjNWI0MjY2OGZjNDhmMjY5NTNjMTNkNSA9IEwubWFwKAogICAgICAgICdtYXBfOWNmNmJjM2UyYzViNDI2NjhmYzQ4ZjI2OTUzYzEzZDUnLCB7CiAgICAgICAgY2VudGVyOiBbNTEuODU2MSwgLTAuMjk2Nl0sCiAgICAgICAgem9vbTogOSwKICAgICAgICBtYXhCb3VuZHM6IGJvdW5kcywKICAgICAgICBsYXllcnM6IFtdLAogICAgICAgIHdvcmxkQ29weUp1bXA6IGZhbHNlLAogICAgICAgIGNyczogTC5DUlMuRVBTRzM4NTcsCiAgICAgICAgem9vbUNvbnRyb2w6IHRydWUsCiAgICAgICAgfSk7CgogICAgCiAgICAKICAgIHZhciB0aWxlX2xheWVyXzk2NzQ0ZGZiNjdiZjQyNGVhYWE0OTZmOWMxMzZiNTczID0gTC50aWxlTGF5ZXIoCiAgICAgICAgJ2h0dHBzOi8vY2FydG9kYi1iYXNlbWFwcy17c30uZ2xvYmFsLnNzbC5mYXN0bHkubmV0L2xpZ2h0X2FsbC97en0ve3h9L3t5fS5wbmcnLAogICAgICAgIHsKICAgICAgICAiYXR0cmlidXRpb24iOiBudWxsLAogICAgICAgICJkZXRlY3RSZXRpbmEiOiBmYWxzZSwKICAgICAgICAibWF4TmF0aXZlWm9vbSI6IDE4LAogICAgICAgICJtYXhab29tIjogMTgsCiAgICAgICAgIm1pblpvb20iOiAwLAogICAgICAgICJub1dyYXAiOiBmYWxzZSwKICAgICAgICAic3ViZG9tYWlucyI6ICJhYmMiCn0pLmFkZFRvKG1hcF85Y2Y2YmMzZTJjNWI0MjY2OGZjNDhmMjY5NTNjMTNkNSk7CiAgICAKICAgICAgICAgICAgdmFyIGNpcmNsZV9tYXJrZXJfNzFhNDgyYzBiZWZjNGU0NWI4MjFhN2UyOTFiNzVjODUgPSBMLmNpcmNsZU1hcmtlcigKICAgICAgICAgICAgICAgIFs1MS41MzM5MjUsIC0wLjEyMTU1M10sCiAgICAgICAgICAgICAgICB7CiAgImJ1YmJsaW5nTW91c2VFdmVudHMiOiB0cnVlLAogICJjb2xvciI6ICJjcmltc29uIiwKICAiZGFzaEFycmF5IjogbnVsbCwKICAiZGFzaE9mZnNldCI6IG51bGwsCiAgImZpbGwiOiBmYWxzZSwKICAiZmlsbENvbG9yIjogImNyaW1zb24iLAogICJmaWxsT3BhY2l0eSI6IDAuMiwKICAiZmlsbFJ1bGUiOiAiZXZlbm9kZCIsCiAgImxpbmVDYXAiOiAicm91bmQiLAogICJsaW5lSm9pbiI6ICJyb3VuZCIsCiAgIm9wYWNpdHkiOiAxLjAsCiAgInJhZGl1cyI6IDEwLAogICJzdHJva2UiOiB0cnVlLAogICJ3ZWlnaHQiOiAzCn0KICAgICAgICAgICAgICAgICkKICAgICAgICAgICAgICAgIC5hZGRUbyhtYXBfOWNmNmJjM2UyYzViNDI2NjhmYzQ4ZjI2OTUzYzEzZDUpOwogICAgICAgICAgICAKICAgIAogICAgICAgICAgICB2YXIgcG9wdXBfMjM2NDM0YzdlMDc2NDI1NmIwZjUzYzMyYzA3OTZlMTAgPSBMLnBvcHVwKHttYXhXaWR0aDogJzMwMCcKICAgICAgICAgICAgCiAgICAgICAgICAgIH0pOwoKICAgICAgICAgICAgCiAgICAgICAgICAgICAgICB2YXIgaHRtbF85YWRkMzgyNDdlMTk0ZDg0YWZjMWFmZmE2MTI0ZGU0YSA9ICQoJzxkaXYgaWQ9Imh0bWxfOWFkZDM4MjQ3ZTE5NGQ4NGFmYzFhZmZhNjEyNGRlNGEiIHN0eWxlPSJ3aWR0aDogMTAwLjAlOyBoZWlnaHQ6IDEwMC4wJTsiPk5hdHVyZTwvZGl2PicpWzBdOwogICAgICAgICAgICAgICAgcG9wdXBfMjM2NDM0YzdlMDc2NDI1NmIwZjUzYzMyYzA3OTZlMTAuc2V0Q29udGVudChodG1sXzlhZGQzODI0N2UxOTRkODRhZmMxYWZmYTYxMjRkZTRhKTsKICAgICAgICAgICAgCgogICAgICAgICAgICBjaXJjbGVfbWFya2VyXzcxYTQ4MmMwYmVmYzRlNDViODIxYTdlMjkxYjc1Yzg1LmJpbmRQb3B1cChwb3B1cF8yMzY0MzRjN2UwNzY0MjU2YjBmNTNjMzJjMDc5NmUxMCkKICAgICAgICAgICAgOwoKICAgICAgICAgICAgCiAgICAgICAgCiAgICAKICAgICAgICAgICAgdmFyIGNpcmNsZV9tYXJrZXJfMWM2ZThmMjc2ZjI3NDNjZGFmYThhMGQ1N2FiMzk1OGEgPSBMLmNpcmNsZU1hcmtlcigKICAgICAgICAgICAgICAgIFs1MS41MzE4NzcsIC0wLjEyODc2N10sCiAgICAgICAgICAgICAgICB7CiAgImJ1YmJsaW5nTW91c2VFdmVudHMiOiB0cnVlLAogICJjb2xvciI6ICJibHVlIiwKICAiZGFzaEFycmF5IjogbnVsbCwKICAiZGFzaE9mZnNldCI6IG51bGwsCiAgImZpbGwiOiBmYWxzZSwKICAiZmlsbENvbG9yIjogImJsdWUiLAogICJmaWxsT3BhY2l0eSI6IDAuMiwKICAiZmlsbFJ1bGUiOiAiZXZlbm9kZCIsCiAgImxpbmVDYXAiOiAicm91bmQiLAogICJsaW5lSm9pbiI6ICJyb3VuZCIsCiAgIm9wYWNpdHkiOiAxLjAsCiAgInJhZGl1cyI6IDEwLAogICJzdHJva2UiOiB0cnVlLAogICJ3ZWlnaHQiOiAzCn0KICAgICAgICAgICAgICAgICkKICAgICAgICAgICAgICAgIC5hZGRUbyhtYXBfOWNmNmJjM2UyYzViNDI2NjhmYzQ4ZjI2OTUzYzEzZDUpOwogICAgICAgICAgICAKICAgIAogICAgICAgICAgICB2YXIgcG9wdXBfOTQzNTFlZWMyMGRkNGQ1Mjk3NTFlMDBiMmMwNjFhMDMgPSBMLnBvcHVwKHttYXhXaWR0aDogJzMwMCcKICAgICAgICAgICAgCiAgICAgICAgICAgIH0pOwoKICAgICAgICAgICAgCiAgICAgICAgICAgICAgICB2YXIgaHRtbF84MDFmZmQ1NTBiZGY0OTY3YjU4MGUxZWUyZGExMTM4NSA9ICQoJzxkaXYgaWQ9Imh0bWxfODAxZmZkNTUwYmRmNDk2N2I1ODBlMWVlMmRhMTEzODUiIHN0eWxlPSJ3aWR0aDogMTAwLjAlOyBoZWlnaHQ6IDEwMC4wJTsiPkZyYW5jaXMgQ3JpY2sgSW5zdGl0dXRlPC9kaXY+JylbMF07CiAgICAgICAgICAgICAgICBwb3B1cF85NDM1MWVlYzIwZGQ0ZDUyOTc1MWUwMGIyYzA2MWEwMy5zZXRDb250ZW50KGh0bWxfODAxZmZkNTUwYmRmNDk2N2I1ODBlMWVlMmRhMTEzODUpOwogICAgICAgICAgICAKCiAgICAgICAgICAgIGNpcmNsZV9tYXJrZXJfMWM2ZThmMjc2ZjI3NDNjZGFmYThhMGQ1N2FiMzk1OGEuYmluZFBvcHVwKHBvcHVwXzk0MzUxZWVjMjBkZDRkNTI5NzUxZTAwYjJjMDYxYTAzKQogICAgICAgICAgICA7CgogICAgICAgICAgICAKICAgICAgICAKICAgIAogICAgICAgICAgICB2YXIgY2lyY2xlX21hcmtlcl82ZmVmYmNjNzI0YmI0ZmY2YWM3OTRiODk1NTdiNzEzMSA9IEwuY2lyY2xlTWFya2VyKAogICAgICAgICAgICAgICAgWzUxLjUyNDQ4NiwgLTAuMTMzOTk3XSwKICAgICAgICAgICAgICAgIHsKICAiYnViYmxpbmdNb3VzZUV2ZW50cyI6IHRydWUsCiAgImNvbG9yIjogImJsdWUiLAogICJkYXNoQXJyYXkiOiBudWxsLAogICJkYXNoT2Zmc2V0IjogbnVsbCwKICAiZmlsbCI6IGZhbHNlLAogICJmaWxsQ29sb3IiOiAiYmx1ZSIsCiAgImZpbGxPcGFjaXR5IjogMC4yLAogICJmaWxsUnVsZSI6ICJldmVub2RkIiwKICAibGluZUNhcCI6ICJyb3VuZCIsCiAgImxpbmVKb2luIjogInJvdW5kIiwKICAib3BhY2l0eSI6IDEuMCwKICAicmFkaXVzIjogMTAsCiAgInN0cm9rZSI6IHRydWUsCiAgIndlaWdodCI6IDMKfQogICAgICAgICAgICAgICAgKQogICAgICAgICAgICAgICAgLmFkZFRvKG1hcF85Y2Y2YmMzZTJjNWI0MjY2OGZjNDhmMjY5NTNjMTNkNSk7CiAgICAgICAgICAgIAogICAgCiAgICAgICAgICAgIHZhciBwb3B1cF9iZWFiYzYwMjBhYTA0MDFmYThjMzM5YzE4ZWQ1N2ViYiA9IEwucG9wdXAoe21heFdpZHRoOiAnMzAwJwogICAgICAgICAgICAKICAgICAgICAgICAgfSk7CgogICAgICAgICAgICAKICAgICAgICAgICAgICAgIHZhciBodG1sXzU0YTkwN2E3ZGM4ODQyNTk5ZTczYzIxYzJlOWRiYTUyID0gJCgnPGRpdiBpZD0iaHRtbF81NGE5MDdhN2RjODg0MjU5OWU3M2MyMWMyZTlkYmE1MiIgc3R5bGU9IndpZHRoOiAxMDAuMCU7IGhlaWdodDogMTAwLjAlOyI+VW5pdmVyc2l0eSBDb2xsZWdlIExvbmRvbjwvZGl2PicpWzBdOwogICAgICAgICAgICAgICAgcG9wdXBfYmVhYmM2MDIwYWEwNDAxZmE4YzMzOWMxOGVkNTdlYmIuc2V0Q29udGVudChodG1sXzU0YTkwN2E3ZGM4ODQyNTk5ZTczYzIxYzJlOWRiYTUyKTsKICAgICAgICAgICAgCgogICAgICAgICAgICBjaXJjbGVfbWFya2VyXzZmZWZiY2M3MjRiYjRmZjZhYzc5NGI4OTU1N2I3MTMxLmJpbmRQb3B1cChwb3B1cF9iZWFiYzYwMjBhYTA0MDFmYThjMzM5YzE4ZWQ1N2ViYikKICAgICAgICAgICAgOwoKICAgICAgICAgICAgCiAgICAgICAgCiAgICAKICAgICAgICAgICAgdmFyIGNpcmNsZV9tYXJrZXJfNzM4MzczNzViOGQ5NDEzYThjMjUzNTg5YTA2NWI2YWIgPSBMLmNpcmNsZU1hcmtlcigKICAgICAgICAgICAgICAgIFs1MS41MjQ0MzUsIC0wLjEzMjQ5NV0sCiAgICAgICAgICAgICAgICB7CiAgImJ1YmJsaW5nTW91c2VFdmVudHMiOiB0cnVlLAogICJjb2xvciI6ICJibHVlIiwKICAiZGFzaEFycmF5IjogbnVsbCwKICAiZGFzaE9mZnNldCI6IG51bGwsCiAgImZpbGwiOiBmYWxzZSwKICAiZmlsbENvbG9yIjogImJsdWUiLAogICJmaWxsT3BhY2l0eSI6IDAuMiwKICAiZmlsbFJ1bGUiOiAiZXZlbm9kZCIsCiAgImxpbmVDYXAiOiAicm91bmQiLAogICJsaW5lSm9pbiI6ICJyb3VuZCIsCiAgIm9wYWNpdHkiOiAxLjAsCiAgInJhZGl1cyI6IDEwLAogICJzdHJva2UiOiB0cnVlLAogICJ3ZWlnaHQiOiAzCn0KICAgICAgICAgICAgICAgICkKICAgICAgICAgICAgICAgIC5hZGRUbyhtYXBfOWNmNmJjM2UyYzViNDI2NjhmYzQ4ZjI2OTUzYzEzZDUpOwogICAgICAgICAgICAKICAgIAogICAgICAgICAgICB2YXIgcG9wdXBfYWY5OTcwNWM5ZTE0NGRlZTk3YzJmYTNhM2VlODkwMmUgPSBMLnBvcHVwKHttYXhXaWR0aDogJzMwMCcKICAgICAgICAgICAgCiAgICAgICAgICAgIH0pOwoKICAgICAgICAgICAgCiAgICAgICAgICAgICAgICB2YXIgaHRtbF81OTBlZDcxMGYyNDQ0ZWY0ODZmNTg3ZDY5N2MwMjZiYiA9ICQoJzxkaXYgaWQ9Imh0bWxfNTkwZWQ3MTBmMjQ0NGVmNDg2ZjU4N2Q2OTdjMDI2YmIiIHN0eWxlPSJ3aWR0aDogMTAwLjAlOyBoZWlnaHQ6IDEwMC4wJTsiPk1SQyBMYWJvcmF0b3J5IGZvciBNb2xlY3VsYXIgQ2VsbCBCaW9sb2d5PC9kaXY+JylbMF07CiAgICAgICAgICAgICAgICBwb3B1cF9hZjk5NzA1YzllMTQ0ZGVlOTdjMmZhM2EzZWU4OTAyZS5zZXRDb250ZW50KGh0bWxfNTkwZWQ3MTBmMjQ0NGVmNDg2ZjU4N2Q2OTdjMDI2YmIpOwogICAgICAgICAgICAKCiAgICAgICAgICAgIGNpcmNsZV9tYXJrZXJfNzM4MzczNzViOGQ5NDEzYThjMjUzNTg5YTA2NWI2YWIuYmluZFBvcHVwKHBvcHVwX2FmOTk3MDVjOWUxNDRkZWU5N2MyZmEzYTNlZTg5MDJlKQogICAgICAgICAgICA7CgogICAgICAgICAgICAKICAgICAgICAKICAgIAogICAgICAgICAgICB2YXIgY2lyY2xlX21hcmtlcl9hZWE1MmE1NTZiNDU0YjIxOTM4ZWE0ZTA1ZDdmYWVmMSA9IEwuY2lyY2xlTWFya2VyKAogICAgICAgICAgICAgICAgWzUxLjUxMTU3MywgLTAuMTE2MDgzXSwKICAgICAgICAgICAgICAgIHsKICAiYnViYmxpbmdNb3VzZUV2ZW50cyI6IHRydWUsCiAgImNvbG9yIjogImJsdWUiLAogICJkYXNoQXJyYXkiOiBudWxsLAogICJkYXNoT2Zmc2V0IjogbnVsbCwKICAiZmlsbCI6IGZhbHNlLAogICJmaWxsQ29sb3IiOiAiYmx1ZSIsCiAgImZpbGxPcGFjaXR5IjogMC4yLAogICJmaWxsUnVsZSI6ICJldmVub2RkIiwKICAibGluZUNhcCI6ICJyb3VuZCIsCiAgImxpbmVKb2luIjogInJvdW5kIiwKICAib3BhY2l0eSI6IDEuMCwKICAicmFkaXVzIjogMTAsCiAgInN0cm9rZSI6IHRydWUsCiAgIndlaWdodCI6IDMKfQogICAgICAgICAgICAgICAgKQogICAgICAgICAgICAgICAgLmFkZFRvKG1hcF85Y2Y2YmMzZTJjNWI0MjY2OGZjNDhmMjY5NTNjMTNkNSk7CiAgICAgICAgICAgIAogICAgCiAgICAgICAgICAgIHZhciBwb3B1cF81MWU3YzBkNmFmZjc0ODEwOGNlYTdiOWZjOGUzMmJhMiA9IEwucG9wdXAoe21heFdpZHRoOiAnMzAwJwogICAgICAgICAgICAKICAgICAgICAgICAgfSk7CgogICAgICAgICAgICAKICAgICAgICAgICAgICAgIHZhciBodG1sX2VjNTNhMWRkNmJmZTRlYjVhMTMzMDMyZGUwZWQ1YTg1ID0gJCgnPGRpdiBpZD0iaHRtbF9lYzUzYTFkZDZiZmU0ZWI1YTEzMzAzMmRlMGVkNWE4NSIgc3R5bGU9IndpZHRoOiAxMDAuMCU7IGhlaWdodDogMTAwLjAlOyI+S2luZ3MgQ29sbGVnZSBMb25kb248L2Rpdj4nKVswXTsKICAgICAgICAgICAgICAgIHBvcHVwXzUxZTdjMGQ2YWZmNzQ4MTA4Y2VhN2I5ZmM4ZTMyYmEyLnNldENvbnRlbnQoaHRtbF9lYzUzYTFkZDZiZmU0ZWI1YTEzMzAzMmRlMGVkNWE4NSk7CiAgICAgICAgICAgIAoKICAgICAgICAgICAgY2lyY2xlX21hcmtlcl9hZWE1MmE1NTZiNDU0YjIxOTM4ZWE0ZTA1ZDdmYWVmMS5iaW5kUG9wdXAocG9wdXBfNTFlN2MwZDZhZmY3NDgxMDhjZWE3YjlmYzhlMzJiYTIpCiAgICAgICAgICAgIDsKCiAgICAgICAgICAgIAogICAgICAgIAogICAgCiAgICAgICAgICAgIHZhciBjaXJjbGVfbWFya2VyXzA4YTAyOTU5NjkyMTQxNTY5ODgyYTc0YzE3ZDBlNWUzID0gTC5jaXJjbGVNYXJrZXIoCiAgICAgICAgICAgICAgICBbNTEuNDk4NzgsIC0wLjE3NDg4OF0sCiAgICAgICAgICAgICAgICB7CiAgImJ1YmJsaW5nTW91c2VFdmVudHMiOiB0cnVlLAogICJjb2xvciI6ICJibHVlIiwKICAiZGFzaEFycmF5IjogbnVsbCwKICAiZGFzaE9mZnNldCI6IG51bGwsCiAgImZpbGwiOiBmYWxzZSwKICAiZmlsbENvbG9yIjogImJsdWUiLAogICJmaWxsT3BhY2l0eSI6IDAuMiwKICAiZmlsbFJ1bGUiOiAiZXZlbm9kZCIsCiAgImxpbmVDYXAiOiAicm91bmQiLAogICJsaW5lSm9pbiI6ICJyb3VuZCIsCiAgIm9wYWNpdHkiOiAxLjAsCiAgInJhZGl1cyI6IDEwLAogICJzdHJva2UiOiB0cnVlLAogICJ3ZWlnaHQiOiAzCn0KICAgICAgICAgICAgICAgICkKICAgICAgICAgICAgICAgIC5hZGRUbyhtYXBfOWNmNmJjM2UyYzViNDI2NjhmYzQ4ZjI2OTUzYzEzZDUpOwogICAgICAgICAgICAKICAgIAogICAgICAgICAgICB2YXIgcG9wdXBfODdhY2ZiNmMxZjY0NDM0MjlkZmM1ODM3OWRmOTY0YWMgPSBMLnBvcHVwKHttYXhXaWR0aDogJzMwMCcKICAgICAgICAgICAgCiAgICAgICAgICAgIH0pOwoKICAgICAgICAgICAgCiAgICAgICAgICAgICAgICB2YXIgaHRtbF8xMTMzZTNmYjZmNGE0NjgyOGI1ZjA5YjM2NjQ4ZWI0MiA9ICQoJzxkaXYgaWQ9Imh0bWxfMTEzM2UzZmI2ZjRhNDY4MjhiNWYwOWIzNjY0OGViNDIiIHN0eWxlPSJ3aWR0aDogMTAwLjAlOyBoZWlnaHQ6IDEwMC4wJTsiPkltcGVyaWFsIENvbGxlZ2UgTG9uZG9uPC9kaXY+JylbMF07CiAgICAgICAgICAgICAgICBwb3B1cF84N2FjZmI2YzFmNjQ0MzQyOWRmYzU4Mzc5ZGY5NjRhYy5zZXRDb250ZW50KGh0bWxfMTEzM2UzZmI2ZjRhNDY4MjhiNWYwOWIzNjY0OGViNDIpOwogICAgICAgICAgICAKCiAgICAgICAgICAgIGNpcmNsZV9tYXJrZXJfMDhhMDI5NTk2OTIxNDE1Njk4ODJhNzRjMTdkMGU1ZTMuYmluZFBvcHVwKHBvcHVwXzg3YWNmYjZjMWY2NDQzNDI5ZGZjNTgzNzlkZjk2NGFjKQogICAgICAgICAgICA7CgogICAgICAgICAgICAKICAgICAgICAKICAgIAogICAgICAgICAgICB2YXIgY2lyY2xlX21hcmtlcl83YzQ0MjY2ZTc2MmM0YmJkYjdkM2E4MTkyZDM5ZTUzMCA9IEwuY2lyY2xlTWFya2VyKAogICAgICAgICAgICAgICAgWzUyLjIwNjk2LCAwLjExNTAzNF0sCiAgICAgICAgICAgICAgICB7CiAgImJ1YmJsaW5nTW91c2VFdmVudHMiOiB0cnVlLAogICJjb2xvciI6ICJibHVlIiwKICAiZGFzaEFycmF5IjogbnVsbCwKICAiZGFzaE9mZnNldCI6IG51bGwsCiAgImZpbGwiOiBmYWxzZSwKICAiZmlsbENvbG9yIjogImJsdWUiLAogICJmaWxsT3BhY2l0eSI6IDAuMiwKICAiZmlsbFJ1bGUiOiAiZXZlbm9kZCIsCiAgImxpbmVDYXAiOiAicm91bmQiLAogICJsaW5lSm9pbiI6ICJyb3VuZCIsCiAgIm9wYWNpdHkiOiAxLjAsCiAgInJhZGl1cyI6IDEwLAogICJzdHJva2UiOiB0cnVlLAogICJ3ZWlnaHQiOiAzCn0KICAgICAgICAgICAgICAgICkKICAgICAgICAgICAgICAgIC5hZGRUbyhtYXBfOWNmNmJjM2UyYzViNDI2NjhmYzQ4ZjI2OTUzYzEzZDUpOwogICAgICAgICAgICAKICAgIAogICAgICAgICAgICB2YXIgcG9wdXBfYWYzOGM5MzE2MzcxNDc4NzhmMWFmNWI1YzFjMTU4OTIgPSBMLnBvcHVwKHttYXhXaWR0aDogJzMwMCcKICAgICAgICAgICAgCiAgICAgICAgICAgIH0pOwoKICAgICAgICAgICAgCiAgICAgICAgICAgICAgICB2YXIgaHRtbF9hMDE5NDRjODdmMjE0YTQ0OGUwYTc5NWZkYjIwZjdjMiA9ICQoJzxkaXYgaWQ9Imh0bWxfYTAxOTQ0Yzg3ZjIxNGE0NDhlMGE3OTVmZGIyMGY3YzIiIHN0eWxlPSJ3aWR0aDogMTAwLjAlOyBoZWlnaHQ6IDEwMC4wJTsiPkNhbWJyaWRnZSBVbml2ZXJzaXR5PC9kaXY+JylbMF07CiAgICAgICAgICAgICAgICBwb3B1cF9hZjM4YzkzMTYzNzE0Nzg3OGYxYWY1YjVjMWMxNTg5Mi5zZXRDb250ZW50KGh0bWxfYTAxOTQ0Yzg3ZjIxNGE0NDhlMGE3OTVmZGIyMGY3YzIpOwogICAgICAgICAgICAKCiAgICAgICAgICAgIGNpcmNsZV9tYXJrZXJfN2M0NDI2NmU3NjJjNGJiZGI3ZDNhODE5MmQzOWU1MzAuYmluZFBvcHVwKHBvcHVwX2FmMzhjOTMxNjM3MTQ3ODc4ZjFhZjViNWMxYzE1ODkyKQogICAgICAgICAgICA7CgogICAgICAgICAgICAKICAgICAgICAKICAgIAogICAgICAgICAgICB2YXIgY2lyY2xlX21hcmtlcl8zM2FlYWViNWMxNWM0MTA0Yjg2OTBhYTQzOTQ1NTg4ZiA9IEwuY2lyY2xlTWFya2VyKAogICAgICAgICAgICAgICAgWzUxLjc1NDg0MywgLTEuMjU0MzAyXSwKICAgICAgICAgICAgICAgIHsKICAiYnViYmxpbmdNb3VzZUV2ZW50cyI6IHRydWUsCiAgImNvbG9yIjogImJsdWUiLAogICJkYXNoQXJyYXkiOiBudWxsLAogICJkYXNoT2Zmc2V0IjogbnVsbCwKICAiZmlsbCI6IGZhbHNlLAogICJmaWxsQ29sb3IiOiAiYmx1ZSIsCiAgImZpbGxPcGFjaXR5IjogMC4yLAogICJmaWxsUnVsZSI6ICJldmVub2RkIiwKICAibGluZUNhcCI6ICJyb3VuZCIsCiAgImxpbmVKb2luIjogInJvdW5kIiwKICAib3BhY2l0eSI6IDEuMCwKICAicmFkaXVzIjogMTAsCiAgInN0cm9rZSI6IHRydWUsCiAgIndlaWdodCI6IDMKfQogICAgICAgICAgICAgICAgKQogICAgICAgICAgICAgICAgLmFkZFRvKG1hcF85Y2Y2YmMzZTJjNWI0MjY2OGZjNDhmMjY5NTNjMTNkNSk7CiAgICAgICAgICAgIAogICAgCiAgICAgICAgICAgIHZhciBwb3B1cF8zNWI1NWRlZGNkMjQ0OTk4OTUzOGRmYmM1Mzg1ZWIzNiA9IEwucG9wdXAoe21heFdpZHRoOiAnMzAwJwogICAgICAgICAgICAKICAgICAgICAgICAgfSk7CgogICAgICAgICAgICAKICAgICAgICAgICAgICAgIHZhciBodG1sXzViYTNkMTA0MWQ0ODQxMmJiY2JhYWEwNjA4N2MyZDU4ID0gJCgnPGRpdiBpZD0iaHRtbF81YmEzZDEwNDFkNDg0MTJiYmNiYWFhMDYwODdjMmQ1OCIgc3R5bGU9IndpZHRoOiAxMDAuMCU7IGhlaWdodDogMTAwLjAlOyI+T3hmb3JkIFVuaXZlcnNpdHk8L2Rpdj4nKVswXTsKICAgICAgICAgICAgICAgIHBvcHVwXzM1YjU1ZGVkY2QyNDQ5OTg5NTM4ZGZiYzUzODVlYjM2LnNldENvbnRlbnQoaHRtbF81YmEzZDEwNDFkNDg0MTJiYmNiYWFhMDYwODdjMmQ1OCk7CiAgICAgICAgICAgIAoKICAgICAgICAgICAgY2lyY2xlX21hcmtlcl8zM2FlYWViNWMxNWM0MTA0Yjg2OTBhYTQzOTQ1NTg4Zi5iaW5kUG9wdXAocG9wdXBfMzViNTVkZWRjZDI0NDk5ODk1MzhkZmJjNTM4NWViMzYpCiAgICAgICAgICAgIDsKCiAgICAgICAgICAgIAogICAgICAgIAogICAgCiAgICAgICAgICAgIHZhciBjaXJjbGVfbWFya2VyXzgyNDNiMDYyMzgwYjQwYThhOTEzMzg3Mjc0OWI4NTVjID0gTC5jaXJjbGVNYXJrZXIoCiAgICAgICAgICAgICAgICBbNTEuNTMyMzQ5LCAtMC4xMjM4MDZdLAogICAgICAgICAgICAgICAgewogICJidWJibGluZ01vdXNlRXZlbnRzIjogdHJ1ZSwKICAiY29sb3IiOiAiYmx1ZSIsCiAgImRhc2hBcnJheSI6IG51bGwsCiAgImRhc2hPZmZzZXQiOiBudWxsLAogICJmaWxsIjogZmFsc2UsCiAgImZpbGxDb2xvciI6ICJibHVlIiwKICAiZmlsbE9wYWNpdHkiOiAwLjIsCiAgImZpbGxSdWxlIjogImV2ZW5vZGQiLAogICJsaW5lQ2FwIjogInJvdW5kIiwKICAibGluZUpvaW4iOiAicm91bmQiLAogICJvcGFjaXR5IjogMS4wLAogICJyYWRpdXMiOiAxMCwKICAic3Ryb2tlIjogdHJ1ZSwKICAid2VpZ2h0IjogMwp9CiAgICAgICAgICAgICAgICApCiAgICAgICAgICAgICAgICAuYWRkVG8obWFwXzljZjZiYzNlMmM1YjQyNjY4ZmM0OGYyNjk1M2MxM2Q1KTsKICAgICAgICAgICAgCiAgICAKICAgICAgICAgICAgdmFyIHBvcHVwXzJkNmFjNWJjZGJiNTQ4ZTM4ZTg5NjE0NjNmZDUzMmEzID0gTC5wb3B1cCh7bWF4V2lkdGg6ICczMDAnCiAgICAgICAgICAgIAogICAgICAgICAgICB9KTsKCiAgICAgICAgICAgIAogICAgICAgICAgICAgICAgdmFyIGh0bWxfOTYyOTdkOTZkNTg5NGE4MDkzZjFkOWNlZTYzN2U5MDUgPSAkKCc8ZGl2IGlkPSJodG1sXzk2Mjk3ZDk2ZDU4OTRhODA5M2YxZDljZWU2MzdlOTA1IiBzdHlsZT0id2lkdGg6IDEwMC4wJTsgaGVpZ2h0OiAxMDAuMCU7Ij5QbGF0Zm9ybSA5LTMvNDwvZGl2PicpWzBdOwogICAgICAgICAgICAgICAgcG9wdXBfMmQ2YWM1YmNkYmI1NDhlMzhlODk2MTQ2M2ZkNTMyYTMuc2V0Q29udGVudChodG1sXzk2Mjk3ZDk2ZDU4OTRhODA5M2YxZDljZWU2MzdlOTA1KTsKICAgICAgICAgICAgCgogICAgICAgICAgICBjaXJjbGVfbWFya2VyXzgyNDNiMDYyMzgwYjQwYThhOTEzMzg3Mjc0OWI4NTVjLmJpbmRQb3B1cChwb3B1cF8yZDZhYzViY2RiYjU0OGUzOGU4OTYxNDYzZmQ1MzJhMykKICAgICAgICAgICAgOwoKICAgICAgICAgICAgCiAgICAgICAgCiAgICB2YXIgdGlsZV9sYXllcl9mZTExNDZkNjQzNmE0NDc1YmIxNjIwOGNlMDk0YTE3YyA9IEwudGlsZUxheWVyKAogICAgICAgICdodHRwczovL3RpbGVzLm1hY3Jvc3RyYXQub3JnL2NhcnRvL3t6fS97eH0ve3l9LnBuZycsCiAgICAgICAgewogICAgICAgICJhdHRyaWJ1dGlvbiI6ICJNYWNyb3N0cmF0IiwKICAgICAgICAiZGV0ZWN0UmV0aW5hIjogZmFsc2UsCiAgICAgICAgIm1heE5hdGl2ZVpvb20iOiAxOCwKICAgICAgICAibWF4Wm9vbSI6IDE4LAogICAgICAgICJtaW5ab29tIjogMCwKICAgICAgICAibm9XcmFwIjogZmFsc2UsCiAgICAgICAgInN1YmRvbWFpbnMiOiAiYWJjIgp9KS5hZGRUbyhtYXBfOWNmNmJjM2UyYzViNDI2NjhmYzQ4ZjI2OTUzYzEzZDUpOwogICAgCiAgICAgICAgICAgIHZhciBsYXllcl9jb250cm9sX2ExZmYyMWZjMmYwMDQ0MGY5YTE3N2Q3NWQ4Njg2Mzc3ID0gewogICAgICAgICAgICAgICAgYmFzZV9sYXllcnMgOiB7ICJjYXJ0b2RicG9zaXRyb24iIDogdGlsZV9sYXllcl85Njc0NGRmYjY3YmY0MjRlYWFhNDk2ZjljMTM2YjU3MywiTWFjcm9zdHJhdCIgOiB0aWxlX2xheWVyX2ZlMTE0NmQ2NDM2YTQ0NzViYjE2MjA4Y2UwOTRhMTdjLCB9LAogICAgICAgICAgICAgICAgb3ZlcmxheXMgOiB7ICB9CiAgICAgICAgICAgICAgICB9OwogICAgICAgICAgICBMLmNvbnRyb2wubGF5ZXJzKAogICAgICAgICAgICAgICAgbGF5ZXJfY29udHJvbF9hMWZmMjFmYzJmMDA0NDBmOWExNzdkNzVkODY4NjM3Ny5iYXNlX2xheWVycywKICAgICAgICAgICAgICAgIGxheWVyX2NvbnRyb2xfYTFmZjIxZmMyZjAwNDQwZjlhMTc3ZDc1ZDg2ODYzNzcub3ZlcmxheXMsCiAgICAgICAgICAgICAgICB7cG9zaXRpb246ICd0b3ByaWdodCcsCiAgICAgICAgICAgICAgICAgY29sbGFwc2VkOiB0cnVlLAogICAgICAgICAgICAgICAgIGF1dG9aSW5kZXg6IHRydWUKICAgICAgICAgICAgICAgIH0pLmFkZFRvKG1hcF85Y2Y2YmMzZTJjNWI0MjY2OGZjNDhmMjY5NTNjMTNkNSk7CiAgICAgICAgICAgIAogICAgICAgICAgICAgICAgdGlsZV9sYXllcl9mZTExNDZkNjQzNmE0NDc1YmIxNjIwOGNlMDk0YTE3Yy5yZW1vdmUoKTsKICAgICAgICAKICAgIAogICAgICAgICAgICAgICAgdmFyIGxhdF9sbmdfcG9wdXBfODhkMjQ5NDdjZTkwNDY2NjlhZWUyZjQ5MGE1N2U2M2MgPSBMLnBvcHVwKCk7CiAgICAgICAgICAgICAgICBmdW5jdGlvbiBsYXRMbmdQb3AoZSkgewogICAgICAgICAgICAgICAgICAgIGxhdF9sbmdfcG9wdXBfODhkMjQ5NDdjZTkwNDY2NjlhZWUyZjQ5MGE1N2U2M2MKICAgICAgICAgICAgICAgICAgICAgICAgLnNldExhdExuZyhlLmxhdGxuZykKICAgICAgICAgICAgICAgICAgICAgICAgLnNldENvbnRlbnQoIkxhdGl0dWRlOiAiICsgZS5sYXRsbmcubGF0LnRvRml4ZWQoNCkgKwogICAgICAgICAgICAgICAgICAgICAgICAgICAgICAgICAgICAiPGJyPkxvbmdpdHVkZTogIiArIGUubGF0bG5nLmxuZy50b0ZpeGVkKDQpKQogICAgICAgICAgICAgICAgICAgICAgICAub3Blbk9uKG1hcF85Y2Y2YmMzZTJjNWI0MjY2OGZjNDhmMjY5NTNjMTNkNSk7CiAgICAgICAgICAgICAgICAgICAgfQogICAgICAgICAgICAgICAgbWFwXzljZjZiYzNlMmM1YjQyNjY4ZmM0OGYyNjk1M2MxM2Q1Lm9uKCdjbGljaycsIGxhdExuZ1BvcCk7CiAgICAgICAgICAgIAo8L3NjcmlwdD4=\" style=\"position:absolute;width:100%;height:100%;left:0;top:0;border:none !important;\" allowfullscreen webkitallowfullscreen mozallowfullscreen></iframe></div></div>"
      ],
      "text/plain": [
       "<folium.folium.Map at 0x11bf84eb8>"
      ]
     },
     "execution_count": 17,
     "metadata": {},
     "output_type": "execute_result"
    }
   ],
   "source": [
    "m"
   ]
  },
  {
   "cell_type": "markdown",
   "metadata": {},
   "source": [
    "Document our session, for [computational reproducibility](https://www.nature.com/articles/d41586-018-05990-5)!"
   ]
  },
  {
   "cell_type": "code",
   "execution_count": 18,
   "metadata": {},
   "outputs": [
    {
     "name": "stdout",
     "output_type": "stream",
     "text": [
      "{'commit_hash': 'd86648c5d',\n",
      " 'commit_source': 'installation',\n",
      " 'default_encoding': 'UTF-8',\n",
      " 'ipython_path': '/anaconda3/lib/python3.6/site-packages/IPython',\n",
      " 'ipython_version': '6.1.0',\n",
      " 'os_name': 'posix',\n",
      " 'platform': 'Darwin-17.7.0-x86_64-i386-64bit',\n",
      " 'sys_executable': '/anaconda3/bin/python',\n",
      " 'sys_platform': 'darwin',\n",
      " 'sys_version': '3.6.3 | packaged by conda-forge | (default, Oct  5 2017, '\n",
      "                '19:18:17) \\n'\n",
      "                '[GCC 4.2.1 Compatible Apple LLVM 6.1.0 (clang-602.0.53)]'}\n"
     ]
    }
   ],
   "source": [
    "import IPython\n",
    "print(IPython.sys_info())"
   ]
  },
  {
   "cell_type": "code",
   "execution_count": 19,
   "metadata": {},
   "outputs": [
    {
     "name": "stdout",
     "output_type": "stream",
     "text": [
      "biopython==1.70\n",
      "folium==0.6.0\n",
      "matplotlib==2.1.0\n",
      "pandas==0.20.3\n"
     ]
    }
   ],
   "source": [
    "!pip freeze | grep -E 'folium|matplotlib|pandas|bio'"
   ]
  },
  {
   "cell_type": "code",
   "execution_count": null,
   "metadata": {},
   "outputs": [],
   "source": []
  }
 ],
 "metadata": {
  "kernelspec": {
   "display_name": "Python 3",
   "language": "python",
   "name": "python3"
  },
  "language_info": {
   "codemirror_mode": {
    "name": "ipython",
    "version": 3
   },
   "file_extension": ".py",
   "mimetype": "text/x-python",
   "name": "python",
   "nbconvert_exporter": "python",
   "pygments_lexer": "ipython3",
   "version": "3.6.3"
  }
 },
 "nbformat": 4,
 "nbformat_minor": 2
}
