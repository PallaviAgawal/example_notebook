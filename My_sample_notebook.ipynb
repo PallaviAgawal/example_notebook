{
 "cells": [
  {
   "cell_type": "markdown",
   "metadata": {},
   "source": [
    "This simple notebook demonstrates how users can interleave text, code, and results in a single document. We start with a simple calculation -- computing the first 25 numbers in the Fibonacci sequence, where each value equals the sum of the two previous values. The Jupyter notebook allows us to express that mathematically, using the typesetting language $\\LaTeX{}$: $$F_n = F_{n-1} + F_{n-2}$$\n",
    "Thus, the sequence is: 0, 1, 1, 2, 3, 5, 8, ..."
   ]
  },
  {
   "cell_type": "markdown",
   "metadata": {},
   "source": [
    "The first cell contains an IPython 'magic' code, '%matplotlib', which allows the notebook to display plots inline, in the body of the notebook."
   ]
  },
  {
   "cell_type": "code",
   "execution_count": 1,
   "metadata": {},
   "outputs": [],
   "source": [
    "%matplotlib inline"
   ]
  },
  {
   "cell_type": "code",
   "execution_count": 2,
   "metadata": {},
   "outputs": [],
   "source": [
    "import matplotlib.pyplot as plt"
   ]
  },
  {
   "cell_type": "code",
   "execution_count": 3,
   "metadata": {},
   "outputs": [
    {
     "name": "stdout",
     "output_type": "stream",
     "text": [
      "[0, 1, 1, 2, 3, 5, 8, 13, 21, 34, 55, 89, 144, 233, 377, 610, 987, 1597, 2584, 4181, 6765, 10946, 17711, 28657, 46368]\n"
     ]
    }
   ],
   "source": [
    "# calculate the first 25 Fibonacci numbers\n",
    "f1 = 0\n",
    "f2 = 1\n",
    "ar = [f1, f2] # a list to hold the computed values. We know the first two numbers\n",
    "\n",
    "# we only need to run our calculation 23 times, because positions 1 and 2 are known\n",
    "for i in range (23):\n",
    "    f3 = f1 + f2\n",
    "    ar.append (f3)\n",
    "    f1 = f2\n",
    "    f2 = f3\n",
    "    \n",
    "print (ar) # below, you see the output of the code itself."
   ]
  },
  {
   "cell_type": "markdown",
   "metadata": {},
   "source": [
    "Plot the data"
   ]
  },
  {
   "cell_type": "code",
   "execution_count": 17,
   "metadata": {},
   "outputs": [
    {
     "data": {
      "image/png": "[encoded data removed]",
      "text/plain": [
       "<matplotlib.figure.Figure at 0x1194fa668>"
      ]
     },
     "metadata": {},
     "output_type": "display_data"
    }
   ],
   "source": [
    "fig, ax = plt.subplots()\n",
    "ax.plot (range(25), ar, \"ro\")\n",
    "## uncomment the following call to ax.plot() (by removing the leading '#') and select \n",
    "## 'Cell > Run All' (in Binder) or 'Run > Run All Cells' (Jupyter) to change the graph below\n",
    "# ax.plot (range(25), ar)\n",
    "ax.set (xlabel = \"Sequence No.\", ylabel = \"Fibonacci No.\", \n",
    "       title = \"The First 25 Fibonacci Numbers\")\n",
    "plt.show()"
   ]
  },
  {
   "cell_type": "markdown",
   "metadata": {},
   "source": [
    "Anything you can do programmatically, can be documented in a notebook. Here we'll add an interactive map, just as in our June [mapping feature](https://www.nature.com/articles/d41586-018-05331-6) -- something you might do when working with geospatial data. This requires the Python Leaflet library, folium. (**Uncomment the following cell if you don't have folium already installed.**)"
   ]
  },
  {
   "cell_type": "code",
   "execution_count": 5,
   "metadata": {},
   "outputs": [],
   "source": [
    "# !pip install folium"
   ]
  },
  {
   "cell_type": "code",
   "execution_count": 6,
   "metadata": {},
   "outputs": [],
   "source": [
    "import folium"
   ]
  },
  {
   "cell_type": "markdown",
   "metadata": {},
   "source": [
    "Now we create a simple map: a few points in London, Oxford and Cambridge, overlaid on either a street map, or on a map of geological data provided by the [Macrostrat Project](https://macrostrat.org/). (Click the tiles icon in the upper-right corner of the map to switch between the two layers.)"
   ]
  },
  {
   "cell_type": "code",
   "execution_count": 7,
   "metadata": {},
   "outputs": [],
   "source": [
    "import pandas as pd\n",
    "\n",
    "# create a data frame of locations\n",
    "name = [\"Nature\", \"Francis Crick Institute\", \"University College London\", \n",
    "        \"MRC Laboratory for Molecular Cell Biology\", \"Kings College London\",\n",
    "       \"Imperial College London\", \"Cambridge University\", \"Oxford University\",\n",
    "       \"Platform 9-3/4\"]\n",
    "lat = [51.533925,51.531877,51.524486,51.524435,51.511573,51.498780,52.206960,51.754843,51.532349]\n",
    "long = [-0.121553,-0.128767,-0.133997,-0.132495,-0.116083,-0.174888,0.115034,-1.254302,-0.123806]\n",
    "\n",
    "df = pd.DataFrame({'Name': name, 'Lat': lat, 'Long': long})"
   ]
  },
  {
   "cell_type": "code",
   "execution_count": 8,
   "metadata": {},
   "outputs": [
    {
     "data": {
      "text/plain": [
       "<folium.features.LatLngPopup at 0x1192fadd8>"
      ]
     },
     "execution_count": 8,
     "metadata": {},
     "output_type": "execute_result"
    }
   ],
   "source": [
    "m = folium.Map(location = [51.8561, -0.2966], tiles = 'CartoDB positron', zoom_start = 9)\n",
    "\n",
    "# add the locations to the map\n",
    "for index,row in df.iterrows():\n",
    "    folium.CircleMarker(\n",
    "    location=[row['Lat'], row['Long']],\n",
    "    popup=row['Name'],\n",
    "    color=('crimson' if row['Name'] == 'Nature' else 'blue'),\n",
    "    fill=False,\n",
    "    ).add_to(m)\n",
    "\n",
    "folium.TileLayer(tiles='https://tiles.macrostrat.org/carto/{z}/{x}/{y}.png', \n",
    "                 attr='Macrostrat', name='Macrostrat').add_to(m)\n",
    "folium.LayerControl().add_to(m) # allow user to switch between layers\n",
    "folium.LatLngPopup().add_to(m) # click on the map to get Lat/Long in a popup"
   ]
  },
  {
   "cell_type": "markdown",
   "metadata": {},
   "source": [
    "Draw the map."
   ]
  },
  {
   "cell_type": "code",
   "execution_count": 9,
   "metadata": {},
   "outputs": [
    {
     "data": {
      "text/html": [
       "<div style=\"width:100%;\"><div style=\"position:relative;width:100%;height:0;padding-bottom:60%;\"><iframe src=\"data:text/html;charset=utf-8;base64,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\" style=\"position:absolute;width:100%;height:100%;left:0;top:0;border:none !important;\" allowfullscreen webkitallowfullscreen mozallowfullscreen></iframe></div></div>"
      ],
      "text/plain": [
       "<folium.folium.Map at 0x1192faeb8>"
      ]
     },
     "execution_count": 9,
     "metadata": {},
     "output_type": "execute_result"
    }
   ],
   "source": [
    "m"
   ]
  },
  {
   "cell_type": "markdown",
   "metadata": {},
   "source": [
    "Document our session, for [computational reproducibility](https://www.nature.com/articles/d41586-018-05990-5)!"
   ]
  },
  {
   "cell_type": "code",
   "execution_count": 10,
   "metadata": {},
   "outputs": [
    {
     "name": "stdout",
     "output_type": "stream",
     "text": [
      "{'commit_hash': 'd86648c5d',\n",
      " 'commit_source': 'installation',\n",
      " 'default_encoding': 'UTF-8',\n",
      " 'ipython_path': '/anaconda3/lib/python3.6/site-packages/IPython',\n",
      " 'ipython_version': '6.1.0',\n",
      " 'os_name': 'posix',\n",
      " 'platform': 'Darwin-17.7.0-x86_64-i386-64bit',\n",
      " 'sys_executable': '/anaconda3/bin/python',\n",
      " 'sys_platform': 'darwin',\n",
      " 'sys_version': '3.6.3 | packaged by conda-forge | (default, Oct  5 2017, '\n",
      "                '19:18:17) \\n'\n",
      "                '[GCC 4.2.1 Compatible Apple LLVM 6.1.0 (clang-602.0.53)]'}\n"
     ]
    }
   ],
   "source": [
    "import IPython\n",
    "print(IPython.sys_info())"
   ]
  },
  {
   "cell_type": "code",
   "execution_count": 11,
   "metadata": {},
   "outputs": [
    {
     "name": "stdout",
     "output_type": "stream",
     "text": [
      "folium==0.6.0\n",
      "matplotlib==2.1.0\n",
      "pandas==0.20.3\n"
     ]
    }
   ],
   "source": [
    "!pip freeze | grep -E 'folium|matplotlib|pandas'"
   ]
  }
 ],
 "metadata": {
  "kernelspec": {
   "display_name": "Python 3",
   "language": "python",
   "name": "python3"
  },
  "language_info": {
   "codemirror_mode": {
    "name": "ipython",
    "version": 3
   },
   "file_extension": ".py",
   "mimetype": "text/x-python",
   "name": "python",
   "nbconvert_exporter": "python",
   "pygments_lexer": "ipython3",
   "version": "3.6.3"
  }
 },
 "nbformat": 4,
 "nbformat_minor": 2
}
